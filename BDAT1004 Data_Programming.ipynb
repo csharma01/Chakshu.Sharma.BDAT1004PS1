{
 "cells": [
  {
   "cell_type": "markdown",
   "metadata": {
    "id": "RINdknFrpxRU"
   },
   "source": [
    "# **BDAT 1004 – Data Programming**\n",
    "\n",
    "**Chakshu Sharma 200557020**\n",
    "\n",
    "**Problem Set - 1**"
   ]
  },
  {
   "cell_type": "markdown",
   "metadata": {
    "id": "ExQ-g6t5qnGo"
   },
   "source": [
    "**Question 1**\n",
    "\n",
    "What data type is each of the following (evaluate where necessary)?\n",
    "```\n",
    "5 \n",
    "5.0\n",
    "5 > 1\n",
    "'5'\n",
    "5 * 2\n",
    "'5' * 2\n",
    "'5' + '2'\n",
    "5 / 2\n",
    "5 % 2\n",
    "{5, 2, 1}\n",
    "5 == 3\n",
    "Pi (the number)\n",
    "```\n",
    "\n",
    "\n"
   ]
  },
  {
   "cell_type": "code",
   "execution_count": 1,
   "metadata": {
    "colab": {
     "base_uri": "https://localhost:8080/"
    },
    "id": "NlY0UXBBqlez",
    "outputId": "963b796d-a71d-4b62-8a4a-8e81a72363d0"
   },
   "outputs": [
    {
     "name": "stdout",
     "output_type": "stream",
     "text": [
      "<class 'int'>\n",
      "<class 'float'>\n",
      "<class 'bool'>\n",
      "<class 'str'>\n",
      "<class 'int'>\n",
      "<class 'str'>\n",
      "<class 'str'>\n",
      "<class 'float'>\n",
      "<class 'int'>\n",
      "<class 'set'>\n",
      "<class 'bool'>\n",
      "<class 'float'>\n"
     ]
    }
   ],
   "source": [
    "# Expression 1: 5\n",
    "print(type(5))  # Integer\n",
    "\n",
    "# Expression 2: 5.0\n",
    "print(type(5.0))  # Float\n",
    "\n",
    "# Expression 3: 5 > 1\n",
    "print(type(5 > 1))  # Boolean ( Numerical )\n",
    "\n",
    "# Expression 4: '5'\n",
    "print(type('5'))  # String\n",
    "\n",
    "# Expression 5: 5 * 2\n",
    "print(type(5 * 2))  # Integer\n",
    "\n",
    "# Expression 6: '5' * 2\n",
    "print(type('5' * 2))  # String\n",
    "\n",
    "# Expression 7: '5' + '2'\n",
    "print(type('5' + '2'))  # String\n",
    "\n",
    "# Expression 8: 5 / 2\n",
    "print(type(5 / 2))  #  Float\n",
    "\n",
    "# Expression 9: 5 % 2\n",
    "print(type(5 % 2))  # Integer\n",
    "\n",
    "# Expression 10: {5, 2, 1}\n",
    "print(type({5, 2, 1}))  #  Set\n",
    "\n",
    "# Expression 11: 5 == 3\n",
    "print(type(5 == 3))  # Boolean\n",
    "\n",
    "# Expression 12: Pi (the number)\n",
    "import math\n",
    "print(type(math.pi))  #Float\n"
   ]
  },
  {
   "cell_type": "markdown",
   "metadata": {
    "id": "qHB8X5rrr6fn"
   },
   "source": [
    "**Question 2**\n",
    "\n",
    "Write (and evaluate) python expressions that answer these questions:\n",
    "\n",
    "a. How many letters are there in 'Supercalifragilisticexpialidocious'?\n",
    "\n",
    "b. Does 'Supercalifragilisticexpialidocious' contain 'ice' as a substring?\n",
    "\n",
    "c. Which of the following words is the longest: \n",
    "Supercalifragilisticexpialidocious, Honorificabilitudinitatibus, or Bababadalgharaghtakamminarronnkonn? \n",
    "\n",
    "d. Which composer comes first in the dictionary: 'Berlioz', 'Borodin', 'Brian', \n",
    "'Bartok', 'Bellini', 'Buxtehude', 'Bernstein'. Which one comes last?"
   ]
  },
  {
   "cell_type": "code",
   "execution_count": 8,
   "metadata": {
    "colab": {
     "base_uri": "https://localhost:8080/"
    },
    "id": "IAq8G3lArS4t",
    "outputId": "bee0acfb-3b50-42d4-bd8d-da20c9e1a926"
   },
   "outputs": [
    {
     "name": "stdout",
     "output_type": "stream",
     "text": [
      "a.  34\n",
      "b.  True\n",
      "c.  Supercalifragilisticexpialidocious\n",
      "d.  Bartok Buxtehude\n"
     ]
    }
   ],
   "source": [
    "# a. How many letters are there in 'Supercalifragilisticexpialidocious'?\n",
    "word = 'Supercalifragilisticexpialidocious'\n",
    "letter_count = len(word)\n",
    "print(\"a. \", letter_count)  # Output: 34\n",
    "\n",
    "# b. Does 'Supercalifragilisticexpialidocious' contain 'ice' as a substring?\n",
    "word = 'Supercalifragilisticexpialidocious'\n",
    "substring = 'ice'\n",
    "contains_substring = substring in word\n",
    "print(\"b. \", contains_substring)  # Output: True\n",
    "\n",
    "# c. Which of the following words is the longest: Supercalifragilisticexpialidocious, Honorificabilitudinitatibus, or Bababadalgharaghtakamminarronnkonn?\n",
    "words = ['Supercalifragilisticexpialidocious', 'Honorificabilitudinitatibus', 'Bababadalgharaghtakamminarronnkonn']\n",
    "longest_word = max(words, key=len)\n",
    "print(\"c. \", longest_word)  # Output: Supercalifragilisticexpialidocious\n",
    "\n",
    "# d. Which composer comes first in the dictionary: 'Berlioz', 'Borodin', 'Brian', 'Bartok', 'Bellini', 'Buxtehude', 'Bernstein'. Which one comes last?\n",
    "composers = ['Berlioz', 'Borodin', 'Brian', 'Bartok', 'Bellini', 'Buxtehude', 'Bernstein']\n",
    "first_composer = min(composers)\n",
    "last_composer = max(composers)\n",
    "print(\"d. \",first_composer,last_composer)  # Output: Bartok Buxtehude\n"
   ]
  },
  {
   "cell_type": "markdown",
   "metadata": {
    "id": "4nXiwVrrtvC4"
   },
   "source": [
    "**Question 3**\n",
    "\n",
    "Implement function triangleArea(a,b,c) that takes as input the lengths of the 3\n",
    "sides of a triangle and returns the area of the triangle. By Heron's formula, the area \n",
    "of a triangle with side lengths a, b, and c is\n",
    "\n",
    "√s(s-a)(s-b)(s-c)\n",
    "\n",
    "where \n",
    "s = (a+b+c)/2. \n",
    "```\n",
    ">>> triangleArea(2,2,2)\n",
    "1.7320508075688772\n",
    "```\n",
    "\n",
    "\n"
   ]
  },
  {
   "cell_type": "code",
   "execution_count": 2,
   "metadata": {
    "colab": {
     "base_uri": "https://localhost:8080/"
    },
    "id": "Kuw3zQraslY1",
    "outputId": "8187788d-f0a9-4eac-d88f-90381b6f4b09"
   },
   "outputs": [
    {
     "name": "stdout",
     "output_type": "stream",
     "text": [
      "1.7320508075688772\n",
      "2.8284271247461903\n"
     ]
    }
   ],
   "source": [
    "import math\n",
    "\n",
    "def triangleArea(a, b, c):\n",
    "    # Calculate the semi-perimeter\n",
    "    s = (a + b + c) / 2\n",
    "\n",
    "    # Calculate the area using Heron's formula\n",
    "    area = math.sqrt(s * (s - a) * (s - b) * (s - c))\n",
    "\n",
    "    return area\n",
    "\n",
    "print(triangleArea(2,2,2))\n",
    "print(triangleArea(3,2,3))"
   ]
  },
  {
   "cell_type": "markdown",
   "metadata": {
    "id": "mvoWClzJvUZY"
   },
   "source": [
    "**Question 4**\n",
    "\n",
    "Write a program in python to separate odd and even integers in separate arrays. Go  to the editor Test Data :\n",
    "\n",
    "Input the number of elements to be stored in the array :5\n",
    "\n",
    "Input 5 elements in the array :\n",
    "\n",
    "element - 0 : 25\n",
    "\n",
    "element - 1 : 47\n",
    "\n",
    "element - 2 : 42\n",
    "\n",
    "element - 3 : 56\n",
    "\n",
    "element - 4 : 32\n",
    "\n",
    "Expected Output:\n",
    "\n",
    "The Even elements are:\n",
    "\n",
    "42 56 32\n",
    "\n",
    "The Odd elements are :\n",
    "\n",
    "25 47\n"
   ]
  },
  {
   "cell_type": "code",
   "execution_count": 13,
   "metadata": {
    "colab": {
     "base_uri": "https://localhost:8080/"
    },
    "id": "P_J_4lv1vqc4",
    "outputId": "b9041c9d-9459-482e-f74e-415ab33deb3c"
   },
   "outputs": [
    {
     "name": "stdout",
     "output_type": "stream",
     "text": [
      "Input the number of elements to be stored in the array: 5\n",
      "element - 0: 25\n",
      "element - 1: 47\n",
      "element - 2: 42\n",
      "element - 3: 56\n",
      "element - 4: 32\n",
      "The Even elements are:\n",
      "42 56 32 \n",
      "The Odd elements are:\n",
      "25 47 "
     ]
    }
   ],
   "source": [
    "# Get the number of elements from the user\n",
    "num_elements = int(input(\"Input the number of elements to be stored in the array: \"))\n",
    "\n",
    "# Create an empty list to store the elements\n",
    "elements = []\n",
    "\n",
    "# Get the elements from the user\n",
    "for i in range(num_elements):\n",
    "    element = int(input(f\"element - {i}: \"))\n",
    "    elements.append(element)\n",
    "\n",
    "# Separate odd and even elements into separate lists\n",
    "even_elements = []\n",
    "odd_elements = []\n",
    "\n",
    "for element in elements:\n",
    "    if element % 2 == 0:\n",
    "        even_elements.append(element)\n",
    "    else:\n",
    "        odd_elements.append(element)\n",
    "\n",
    "# Print the even elements\n",
    "print(\"The Even elements are:\")\n",
    "for element in even_elements:\n",
    "    print(element, end=\" \")\n",
    "\n",
    "# Print the odd elements\n",
    "print(\"\\nThe Odd elements are:\")\n",
    "for element in odd_elements:\n",
    "    print(element, end=\" \")\n"
   ]
  },
  {
   "cell_type": "markdown",
   "metadata": {
    "id": "GE92ys3Nwbb9"
   },
   "source": [
    "### **Question 5** \n",
    "\n",
    "a. Write a function inside(x,y,x1,y1,x2,y2) that returns True or False \n",
    "depending on whether the point (x,y) lies in the rectangle with lower left \n",
    "corner (x1,y1) and upper right corner (x2,y2).\n",
    "\n",
    "```\n",
    ">>> inside(1,1,0,0,2,3)\n",
    "True\n",
    ">>> inside(-1,-1,0,0,2,3)\n",
    "False\n",
    "```\n",
    "b. Use function inside() from part a. to write an expression that tests whether \n",
    "the point (1,1) lies in both of the following rectangles: one with lower left \n",
    "corner (0.3, 0.5) and upper right corner (1.1, 0.7) and the other with lower \n",
    "left corner (0.5, 0.2) and upper right corner (1.1, 2). "
   ]
  },
  {
   "cell_type": "code",
   "execution_count": 3,
   "metadata": {
    "colab": {
     "base_uri": "https://localhost:8080/"
    },
    "id": "FCZ7ehmlwKcZ",
    "outputId": "57c950b3-ba1e-4683-a62f-3a0d3b94a3ad"
   },
   "outputs": [
    {
     "name": "stdout",
     "output_type": "stream",
     "text": [
      "The point (1, 1) does not lie in both rectangles.\n",
      "True\n",
      "False\n"
     ]
    }
   ],
   "source": [
    "# a. Write a function inside(x,y,x1,y1,x2,y2) that returns True or False \n",
    "# depending on whether the point (x,y) lies in the rectangle with lower left \n",
    "# corner (x1,y1) and upper right corner (x2,y2).\n",
    "\n",
    "def inside(x, y, x1, y1, x2, y2):\n",
    "    if x >= x1 and x <= x2 and y >= y1 and y <= y2:\n",
    "        return True\n",
    "    else:\n",
    "        return False\n",
    "\n",
    "# b. Using the inside() function from part a, we can write an expression to test whether the point (1, 1) lies in both of the given rectangles:\n",
    "point_in_rectangle1 = inside(1, 1, 0.3, 0.5, 1.1, 0.7)\n",
    "point_in_rectangle2 = inside(1, 1, 0.5, 0.2, 1.1, 2)\n",
    "\n",
    "if point_in_rectangle1 and point_in_rectangle2:\n",
    "    print(\"The point (1, 1) lies in both rectangles.\")\n",
    "else:\n",
    "    print(\"The point (1, 1) does not lie in both rectangles.\")\n",
    "    \n",
    "print(inside(1,1,0,0,2,3))\n",
    "print(inside(-1,-1,0,0,2,3))"
   ]
  },
  {
   "cell_type": "markdown",
   "metadata": {
    "id": "d8Pk-iGn0Nxo"
   },
   "source": [
    "### **Question 6**\n",
    "\n",
    "You can turn a word into pig-Latin using the following two rules (simplified):\n",
    "\n",
    "* If the word starts with a consonant, move that letter to the end and append \n",
    "'ay'. For example, 'happy' becomes 'appyhay' and 'pencil' becomes 'encilpay'.\n",
    "\n",
    "* If the word starts with a vowel, simply append 'way' to the end of the word. \n",
    "For example, 'enter' becomes 'enterway' and 'other' becomes 'otherway' . For \n",
    "our purposes, there are 5 vowels: a, e, i, o, u (so we count y as a consonant).\n",
    "\n",
    "Write a function pig() that takes a word (i.e., a string) as input and returns its pig\u0002Latin form. Your function should still work if the input word contains upper case \n",
    "characters. Your output should always be lower case however."
   ]
  },
  {
   "cell_type": "code",
   "execution_count": 22,
   "metadata": {
    "colab": {
     "base_uri": "https://localhost:8080/"
    },
    "id": "-WUrc8X4xRPB",
    "outputId": "0372da87-612b-4238-8463-f94d691147ad"
   },
   "outputs": [
    {
     "name": "stdout",
     "output_type": "stream",
     "text": [
      "appyhay\n",
      "encilpay\n",
      "enterway\n",
      "otherway\n"
     ]
    }
   ],
   "source": [
    "def pig(word):\n",
    "    vowels = ['a', 'e', 'i', 'o', 'u']\n",
    "    word = word.lower()  # Convert the word to lowercase\n",
    "\n",
    "    # Check if the word starts with a vowel\n",
    "    if word[0] in vowels:\n",
    "        pig_latin = word + 'way'\n",
    "    else:\n",
    "        pig_latin = word[1:] + word[0] + 'ay'\n",
    "\n",
    "    return pig_latin\n",
    "\n",
    "print(pig('happy'))  # Output: appyhay\n",
    "print(pig('pencil'))  # Output: encilpay\n",
    "print(pig('enter'))  # Output: enterway\n",
    "print(pig('other'))  # Output: otherway\n"
   ]
  },
  {
   "cell_type": "markdown",
   "metadata": {
    "id": "bBQGo2qS1RNc"
   },
   "source": [
    "### **Question 7**\n",
    "\n",
    "File bloodtype1.txt records blood-types of patients (A, B, AB, O or OO) at a clinic. \n",
    "\n",
    "Write a function bldcount() that reads the file with name *name* and reports (i.e., prints) how many patients there are in each bloodtype.\n",
    "\n",
    "\n",
    "\n",
    "```\n",
    ">>> bldcount('bloodtype.txt')\n",
    "There are 10 patients of blood type A.\n",
    "There is one patient of blood type B.\n",
    "There are 10 patients of blood type AB.\n",
    "There are 12 patients of blood type O.\n",
    "There are no patients of blood type OO.\n",
    "\n",
    "```\n",
    "\n"
   ]
  },
  {
   "cell_type": "code",
   "execution_count": 28,
   "metadata": {
    "colab": {
     "base_uri": "https://localhost:8080/"
    },
    "id": "yeLLm-eI1s0q",
    "outputId": "e3477478-e2c4-44d1-ff85-187097a1a3f7"
   },
   "outputs": [
    {
     "name": "stdout",
     "output_type": "stream",
     "text": [
      "There are 15 patients of blood type A.\n",
      "There is one patient of blood type B.\n",
      "There are 13 patients of blood type AB.\n",
      "There are 15 patients of blood type O.\n",
      "There are 0 patients of blood type OO.\n"
     ]
    }
   ],
   "source": [
    "def bldcount(filename):\n",
    "    blood_types = ['A', 'B', 'AB', 'O', 'OO']\n",
    "    count = [0] * len(blood_types)  # Initialize count list with zeros for each blood type\n",
    "\n",
    "    # Read the file and count the occurrences of each blood type\n",
    "    with open(filename, 'r') as file:\n",
    "        data = file.read().split()  # Read the contents of the file and split based on whitespace\n",
    "\n",
    "    for blood_type in data:\n",
    "        if blood_type in blood_types:\n",
    "            index = blood_types.index(blood_type)  # Find the index of the blood type in the list\n",
    "            count[index] += 1  # Increment the count for the corresponding blood type\n",
    "\n",
    "    # Print the results\n",
    "    for i in range(len(blood_types)):\n",
    "        if count[i] == 1:\n",
    "            print(f\"There is one patient of blood type {blood_types[i]}.\")\n",
    "        else:\n",
    "            print(f\"There are {count[i]} patients of blood type {blood_types[i]}.\")\n",
    "\n",
    "\n",
    "bldcount('bloodtype1.txt')\n"
   ]
  },
  {
   "cell_type": "markdown",
   "metadata": {
    "id": "erYsmHO-4VhA"
   },
   "source": [
    "### **Question 8**\n",
    "\n",
    "Write a function curconv() that takes as input:\n",
    "\n",
    "\n",
    "1.   a currency represented using a string (e.g., 'JPY' for the Japanese Yen or \n",
    "'EUR' for the Euro)\n",
    "2.   an amount\n",
    "\n",
    "and then converts and returns the amount in US dollars.\n",
    "\n",
    "\n",
    "\n",
    "```\n",
    ">>> curconv('EUR', 100)\n",
    "122.96544\n",
    ">>> curconv('JPY', 100)\n",
    "1.241401\n",
    "```\n",
    "The currency rates you will need are stored in file currencies.txt:\n",
    "\n",
    "\n",
    "```\n",
    "AUD 1.0345157 Australian Dollar\n",
    "CHF 1.0237414 Swiss Franc\n",
    "CNY 0.1550176 Chinese Yuan\n",
    "\n",
    "```\n",
    "\n",
    "\n",
    "\n",
    "\n"
   ]
  },
  {
   "cell_type": "code",
   "execution_count": 32,
   "metadata": {
    "colab": {
     "base_uri": "https://localhost:8080/"
    },
    "id": "d6ANYbeO2_-Z",
    "outputId": "d3851eda-e804-4443-bd0b-e6fba404edef"
   },
   "outputs": [
    {
     "name": "stdout",
     "output_type": "stream",
     "text": [
      "122.96544\n",
      "1.241401\n"
     ]
    }
   ],
   "source": [
    "def curconv(currency, amount):\n",
    "    # Dictionary to store the conversion rates\n",
    "    conversion_rates = {}\n",
    "\n",
    "    # Read the file and populate the conversion_rates dictionary\n",
    "    with open('currencies.txt', 'r') as file:\n",
    "        for line in file:\n",
    "            data = line.split()  # Split each line into currency code, conversion rate, and currency name\n",
    "            currency_code = data[0]\n",
    "            conversion_rate = float(data[1])\n",
    "            conversion_rates[currency_code] = conversion_rate\n",
    "\n",
    "    if currency in conversion_rates:\n",
    "        # Convert the amount to US dollars using the conversion rate\n",
    "        usd_amount = amount * conversion_rates[currency]\n",
    "        return usd_amount\n",
    "    else:\n",
    "        print(\"Currency not found.\")\n",
    "        return None\n",
    "\n",
    "\n",
    "print(curconv('EUR', 100))\n",
    "print(curconv('JPY', 100))"
   ]
  },
  {
   "cell_type": "markdown",
   "metadata": {
    "id": "HhZQ9ylp59IQ"
   },
   "source": [
    "### **Question 9**\n",
    "\n",
    "Each of the following will cause an exception (an error). Identify what type of \n",
    "exception each will cause.\n",
    "\n",
    "Trying to add incompatible variables, as in \n",
    "adding 6 + ‘a’\n",
    "\n",
    "Referring to the 12th item of a list that has only 10 \n",
    "items\n",
    "\n",
    "Using a value that is out of range for a function’s input, such as calling math.sqrt(-1.0)\n",
    "\n",
    "Using an undeclared variable, such as print(x) when x has not been defined \n",
    "\n",
    "Trying to open a file that does not exist, such as mistyping the file name or looking in the wrong directory."
   ]
  },
  {
   "cell_type": "markdown",
   "metadata": {
    "id": "sFVxHaWh7jkc"
   },
   "source": [
    "**Ans.** \n",
    "\n",
    "The types of exceptions that each scenario would bring up are as follows:\n",
    "\n",
    "\n",
    "1.   Attempting to combine variables that are incompatible, like in 6 + \"a\":\n",
    "This will result in a '**TypeError**' because you are attempting to add an integer (number 6) and a string (letter \"a\"), which are incompatible addition types.\n",
    "2.   This will result in an '**IndexError**' because you are attempting to access an index (12) that is out of range for the given list, which contains only 10 entries. Since list indices in Python begin at 0, trying to retrieve item 12 of a list with only 10 items would fail.\n",
    "3.  Using an out-of-range value as the input to a function, such as by calling math.sqrt(-1.0):\n",
    "Since the math.sqrt() function requires a non-negative value as an input, this will result in a ValueError. Python throws a '**ValueError**' when trying to square the square root of a negative number since it is technically impossible to do so.\n",
    "4. Using a variable that isn't declared, like print(x), when x isn't defined:\n",
    "Due to the fact that the variable x was not declared or given a value before being used in the print() statement, this will result in a NameError. If the variable is not defined, Python will raise a '**NameError**'.\n",
    "\n",
    "5. When attempting to open a file that doesn't exist, such as when inputting the file name incorrectly or looking in the wrong directory, Python will throw a '**FileNotFoundError**' because it can't locate the requested file. Python will issue a FileNotFoundError to indicate that the file could not be found if you try to access a file that does not exist, either because of a typo in the file name or because it is located in a different directory.\n"
   ]
  },
  {
   "cell_type": "markdown",
   "metadata": {
    "id": "d22R-l5b9HPL"
   },
   "source": [
    "### **Question 10**\n",
    "\n",
    "Encryption is the process of hiding the meaning of a text by substituting letters in the \n",
    "message with other letters, according to some system. If the process is successful, no \n",
    "one but the intended recipient can understand the encrypted message. Cryptanalysis\n",
    "refers to attempts to undo the encryption, even if some details of the encryption are \n",
    "unknown (for example, if an encrypted message has been intercepted). The first step \n",
    "of cryptanalysis is often to build up a table of letter frequencies in the encrypted text. \n",
    "Assume that the string letters is already defined as \n",
    "'abcdefghijklmnopqrstuvwxyz'. Write a function called frequencies()\n",
    "that takes a string as its only parameter, and returns a list of integers, showing the \n",
    "number of times each character appears in the text. Your function may ignore any \n",
    "characters that are not in letters. \n",
    "\n",
    "\n",
    "\n",
    "```\n",
    ">>> frequencies('The quick red fox got bored and went home.')\n",
    "[1, 1, 1, 3, 5, 1, 1, 2, 1, 0, 1, 0, 1, 2, 4, 0, 1, 2, 0, 2, \n",
    "1, 0, 1, 1, 0, 0]\n",
    ">>> frequencies('apple')\n",
    "```\n",
    "\n"
   ]
  },
  {
   "cell_type": "code",
   "execution_count": 35,
   "metadata": {
    "colab": {
     "base_uri": "https://localhost:8080/"
    },
    "id": "Q4FUOyxS828n",
    "outputId": "05e0c9f2-d9c2-412e-9e10-53e9092238c0"
   },
   "outputs": [
    {
     "name": "stdout",
     "output_type": "stream",
     "text": [
      "[1, 1, 1, 3, 5, 1, 1, 2, 1, 0, 1, 0, 1, 2, 4, 0, 1, 2, 0, 3, 1, 0, 1, 1, 0, 0]\n",
      "[1, 0, 0, 0, 1, 0, 0, 0, 0, 0, 0, 1, 0, 0, 0, 2, 0, 0, 0, 0, 0, 0, 0, 0, 0, 0]\n"
     ]
    }
   ],
   "source": [
    "def frequencies(text):\n",
    "    letters = 'abcdefghijklmnopqrstuvwxyz'\n",
    "    frequency_list = [0] * 26  # Initialize a list of 26 zeros to store the frequencies\n",
    "\n",
    "    for char in text.lower():\n",
    "        if char in letters:\n",
    "            index = letters.index(char)  # Get the index of the character in the letters string\n",
    "            frequency_list[index] += 1  # Increment the frequency count for the corresponding index\n",
    "\n",
    "    return frequency_list\n",
    "\n",
    "print(frequencies('The quick red fox got bored and went home.'))\n",
    "print(frequencies('apple'))"
   ]
  }
 ],
 "metadata": {
  "colab": {
   "provenance": []
  },
  "kernelspec": {
   "display_name": "Python 3 (ipykernel)",
   "language": "python",
   "name": "python3"
  },
  "language_info": {
   "codemirror_mode": {
    "name": "ipython",
    "version": 3
   },
   "file_extension": ".py",
   "mimetype": "text/x-python",
   "name": "python",
   "nbconvert_exporter": "python",
   "pygments_lexer": "ipython3",
   "version": "3.9.13"
  }
 },
 "nbformat": 4,
 "nbformat_minor": 4
}
